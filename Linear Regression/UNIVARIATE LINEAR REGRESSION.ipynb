{
 "cells": [
  {
   "cell_type": "code",
   "execution_count": 2,
   "id": "b07157d9",
   "metadata": {},
   "outputs": [],
   "source": [
    "import pandas as pd"
   ]
  },
  {
   "cell_type": "code",
   "execution_count": 3,
   "id": "8926f637",
   "metadata": {},
   "outputs": [],
   "source": [
    "data = pd.read_csv(\"iris.csv\")"
   ]
  },
  {
   "cell_type": "code",
   "execution_count": 4,
   "id": "0bafe575",
   "metadata": {},
   "outputs": [
    {
     "name": "stdout",
     "output_type": "stream",
     "text": [
      "     sepal length  sepal width  petal length  petal width           class\n",
      "0             4.9          3.0           1.4          0.2     Iris-setosa\n",
      "1             4.7          3.2           1.3          0.2     Iris-setosa\n",
      "2             4.6          3.1           1.5          0.2     Iris-setosa\n",
      "3             5.0          3.6           1.4          0.2     Iris-setosa\n",
      "4             5.4          3.9           1.7          0.4     Iris-setosa\n",
      "..            ...          ...           ...          ...             ...\n",
      "144           6.7          3.0           5.2          2.3  Iris-virginica\n",
      "145           6.3          2.5           5.0          1.9  Iris-virginica\n",
      "146           6.5          3.0           5.2          2.0  Iris-virginica\n",
      "147           6.2          3.4           5.4          2.3  Iris-virginica\n",
      "148           5.9          3.0           5.1          1.8  Iris-virginica\n",
      "\n",
      "[149 rows x 5 columns]\n"
     ]
    }
   ],
   "source": [
    "print(data)"
   ]
  },
  {
   "cell_type": "code",
   "execution_count": 5,
   "id": "96e53614",
   "metadata": {},
   "outputs": [
    {
     "name": "stdout",
     "output_type": "stream",
     "text": [
      "     sepal length\n",
      "0             4.9\n",
      "1             4.7\n",
      "2             4.6\n",
      "3             5.0\n",
      "4             5.4\n",
      "..            ...\n",
      "144           6.7\n",
      "145           6.3\n",
      "146           6.5\n",
      "147           6.2\n",
      "148           5.9\n",
      "\n",
      "[149 rows x 1 columns]\n"
     ]
    }
   ],
   "source": [
    "data_x = data.loc[0:,[\"sepal length\"]]\n",
    "print(data_x)"
   ]
  },
  {
   "cell_type": "code",
   "execution_count": 6,
   "id": "4ae0560d",
   "metadata": {},
   "outputs": [
    {
     "name": "stdout",
     "output_type": "stream",
     "text": [
      "     sepal width\n",
      "0            3.0\n",
      "1            3.2\n",
      "2            3.1\n",
      "3            3.6\n",
      "4            3.9\n",
      "..           ...\n",
      "144          3.0\n",
      "145          2.5\n",
      "146          3.0\n",
      "147          3.4\n",
      "148          3.0\n",
      "\n",
      "[149 rows x 1 columns]\n"
     ]
    }
   ],
   "source": [
    "data_y = data.loc[0:,[\"sepal width\"]]\n",
    "print(data_y)"
   ]
  },
  {
   "cell_type": "code",
   "execution_count": 7,
   "id": "5c78fc58",
   "metadata": {},
   "outputs": [],
   "source": [
    "from sklearn.model_selection import train_test_split\n",
    "data_x_train, data_x_test, data_y_train, data_y_test = train_test_split(data_x, data_y, test_size = 0.2)"
   ]
  },
  {
   "cell_type": "code",
   "execution_count": 8,
   "id": "33d50bd4",
   "metadata": {},
   "outputs": [],
   "source": [
    "from sklearn.linear_model import LinearRegression\n",
    "model = LinearRegression()\n",
    "model.fit(data_x_train, data_y_train)\n",
    "data_y_predict = model.predict(data_x_test)"
   ]
  },
  {
   "cell_type": "code",
   "execution_count": 9,
   "id": "7e8352b4",
   "metadata": {},
   "outputs": [
    {
     "name": "stdout",
     "output_type": "stream",
     "text": [
      "Mean squared Error = 0.2068318585681194\n",
      "Accuracy of Model = -0.13581470932520245\n",
      "Theta0 = [3.47610006]\n",
      "Theta1 = [[-0.06624256]]\n"
     ]
    }
   ],
   "source": [
    "from sklearn.metrics import mean_squared_error, r2_score\n",
    "print(\"Mean squared Error =\", mean_squared_error(data_y_test, data_y_predict))\n",
    "print(\"Accuracy of Model =\",r2_score(data_y_test, data_y_predict))\n",
    "print(\"Theta0 =\", model.intercept_)\n",
    "print(\"Theta1 =\", model.coef_)"
   ]
  },
  {
   "cell_type": "code",
   "execution_count": 10,
   "id": "7c352760",
   "metadata": {},
   "outputs": [
    {
     "data": {
      "image/png": "[encoded data removed]",
      "text/plain": [
       "<Figure size 432x288 with 1 Axes>"
      ]
     },
     "metadata": {
      "needs_background": "light"
     },
     "output_type": "display_data"
    }
   ],
   "source": [
    "%matplotlib inline \n",
    "from matplotlib import pyplot as plt\n",
    "\n",
    "plt.scatter(data_x_test, data_y_test)\n",
    "plt.plot(data_x_test, data_y_predict)\n",
    "plt.xlabel(\"Feature\")\n",
    "plt.ylabel(\"Label\")\n",
    "plt.show()"
   ]
  }
 ],
 "metadata": {
  "kernelspec": {
   "display_name": "Python 3",
   "language": "python",
   "name": "python3"
  },
  "language_info": {
   "codemirror_mode": {
    "name": "ipython",
    "version": 3
   },
   "file_extension": ".py",
   "mimetype": "text/x-python",
   "name": "python",
   "nbconvert_exporter": "python",
   "pygments_lexer": "ipython3",
   "version": "3.9.5"
  }
 },
 "nbformat": 4,
 "nbformat_minor": 5
}
